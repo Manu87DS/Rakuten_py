{
  "nbformat": 4,
  "nbformat_minor": 0,
  "metadata": {
    "colab": {
      "name": "Rakuten_py_NLP_DL.ipynb",
      "provenance": [],
      "toc_visible": true,
      "authorship_tag": "ABX9TyNTIEJc47AHR2EvG9fEYso7",
      "include_colab_link": true
    },
    "kernelspec": {
      "name": "python3",
      "display_name": "Python 3"
    },
    "language_info": {
      "name": "python"
    }
  },
  "cells": [
    {
      "cell_type": "markdown",
      "metadata": {
        "id": "view-in-github",
        "colab_type": "text"
      },
      "source": [
        "<a href=\"https://colab.research.google.com/github/Ragdehl/Rakuten_py/blob/main/edgar/Rakuten_py_NLP_DL.ipynb\" target=\"_parent\"><img src=\"https://colab.research.google.com/assets/colab-badge.svg\" alt=\"Open In Colab\"/></a>"
      ]
    },
    {
      "cell_type": "markdown",
      "metadata": {
        "id": "OAD6OuIKFzKO"
      },
      "source": [
        "# DEEP LEARNING TEXT"
      ]
    },
    {
      "cell_type": "markdown",
      "metadata": {
        "id": "scMc7Je3GEQc"
      },
      "source": [
        "Import libraries:"
      ]
    },
    {
      "cell_type": "code",
      "metadata": {
        "id": "ySYaMINIFfu2"
      },
      "source": [
        "import pandas as pd\n",
        "import numpy as np\n",
        "import seaborn as sns\n",
        "import matplotlib.pyplot as plt\n",
        "import cv2 #import OpenCV -> pip install opencv-python\n",
        "import numpy as np\n",
        "import glob"
      ],
      "execution_count": null,
      "outputs": []
    },
    {
      "cell_type": "markdown",
      "metadata": {
        "id": "A1J6h3twGJ5e"
      },
      "source": [
        "Récuperer les données:4/1AY0e-g5Sj2RvA3tG_oPkhTF36"
      ]
    },
    {
      "cell_type": "code",
      "metadata": {
        "colab": {
          "base_uri": "https://localhost:8080/"
        },
        "id": "F2DcZYNjAigc",
        "outputId": "c7e6401d-2539-4ea6-b8eb-e65d1565d490"
      },
      "source": [
        "from google.colab import drive\n",
        "drive.mount('/content/drive')"
      ],
      "execution_count": null,
      "outputs": [
        {
          "output_type": "stream",
          "text": [
            "Mounted at /content/drive\n"
          ],
          "name": "stdout"
        }
      ]
    },
    {
      "cell_type": "code",
      "metadata": {
        "id": "voQEp-WCGN_J"
      },
      "source": [
        "X = pd.read_csv('/content/drive/My Drive/Rakuten/X_train_update.csv',index_col=0)\n",
        "y = pd.read_csv('/content/drive/My Drive/Rakuten/Y_train_CVw08PX.csv',index_col=0)"
      ],
      "execution_count": null,
      "outputs": []
    },
    {
      "cell_type": "code",
      "metadata": {
        "colab": {
          "base_uri": "https://localhost:8080/"
        },
        "id": "gU3ulrb2Agt6",
        "outputId": "1689d400-71e1-4a4f-a30f-a76ae47f60ca"
      },
      "source": [
        "#Create a column with the name of the picture\n",
        "X['image name'] = 'image_' + X['imageid'].map(str) + '_product_' + X['productid'].map(str) + '.jpg'\n",
        "X['image name']"
      ],
      "execution_count": null,
      "outputs": [
        {
          "output_type": "execute_result",
          "data": {
            "text/plain": [
              "0        image_1263597046_product_3804725264.jpg\n",
              "1         image_1008141237_product_436067568.jpg\n",
              "2          image_938777978_product_201115110.jpg\n",
              "3           image_457047496_product_50418756.jpg\n",
              "4         image_1077757786_product_278535884.jpg\n",
              "                          ...                   \n",
              "84911      image_941495734_product_206719094.jpg\n",
              "84912    image_1188462883_product_3065095706.jpg\n",
              "84913     image_1009325617_product_440707564.jpg\n",
              "84914    image_1267353403_product_3942400296.jpg\n",
              "84915       image_684671297_product_57203227.jpg\n",
              "Name: image name, Length: 84916, dtype: object"
            ]
          },
          "metadata": {
            "tags": []
          },
          "execution_count": 6
        }
      ]
    },
    {
      "cell_type": "code",
      "metadata": {
        "id": "RKC8kNTnAheK"
      },
      "source": [
        ""
      ],
      "execution_count": null,
      "outputs": []
    }
  ]
}