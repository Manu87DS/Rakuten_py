{
 "cells": [
  {
   "cell_type": "code",
   "execution_count": 1,
   "id": "mobile-oregon",
   "metadata": {},
   "outputs": [],
   "source": [
    "import matplotlib.pyplot as plt\n",
    "import seaborn as sns\n",
    "import pandas as pd\n",
    "import numpy as np\n",
    "import datetime\n",
    "import pickle\n",
    "import time\n",
    "import html\n",
    "import os\n",
    "import re\n",
    "\n",
    "import spacy\n",
    "import nltk\n",
    "from nltk.corpus import stopwords\n",
    "\n",
    "from sklearn.utils import shuffle\n",
    "from sklearn.model_selection import train_test_split, GridSearchCV\n",
    "from sklearn.feature_selection import SelectFromModel\n",
    "from sklearn.pipeline import Pipeline, make_pipeline\n",
    "from sklearn.metrics import f1_score, make_scorer, classification_report\n",
    "from sklearn.feature_extraction.text import TfidfVectorizer\n",
    "from sklearn.neighbors import KNeighborsClassifier,NearestNeighbors\n",
    "from sklearn.linear_model import LogisticRegression\n",
    "from sklearn.svm import SVC, LinearSVC\n",
    "from sklearn.tree import DecisionTreeClassifier\n",
    "from sklearn.naive_bayes import BernoulliNB, GaussianNB\n",
    "from sklearn.neural_network import MLPClassifier\n",
    "from sklearn.ensemble import VotingClassifier\n",
    "from sklearn.ensemble import StackingClassifier\n",
    "from sklearn.ensemble import AdaBoostClassifier\n",
    "\n",
    "\n",
    "def f1_score_w(y_true, y_pred, **kwargs):\n",
    "    \"\"\"\n",
    "    Score utilisé par Rakuten\n",
    "    \"\"\"\n",
    "    return f1_score(y_true, y_pred, average='weighted')\n",
    "\n",
    "\n",
    "def read_X(X_file):\n",
    "    \"\"\"\n",
    "    Lecture d'un fichier de données (dataframe) X et petit nettoyage\n",
    "\n",
    "    \"\"\"\n",
    "    df = pd.read_csv(X_file)\n",
    "    # La première colonne est un doublon:\n",
    "    #          df[\"Unnamed: 0\"] == df.index \n",
    "    df = df.drop(\"Unnamed: 0\", axis=1)\n",
    "    # Les colonnes designation et description sont à l'origine de type objet\n",
    "    #          df.info()\n",
    "    df.designation = df.designation.astype('string')\n",
    "    df.description = df.description.astype('string')\n",
    "    return df\n",
    "\n",
    "\n",
    "def remove_accents(text):\n",
    "    \"\"\"\n",
    "    Supprime les accents du texte <text>\n",
    "    \"\"\"\n",
    "    accents = { 'a': ['à', 'ã', 'á', 'â'],\n",
    "                'e': ['é', 'è', 'ê', 'ë'],\n",
    "                'i': ['î', 'ï'],\n",
    "                'u': ['ù', 'ü', 'û'],\n",
    "                'o': ['ô', 'ö'] }\n",
    "    for ch in accents:\n",
    "        for chacc in accents[ch]:\n",
    "            text = text.replace(chacc, ch)\n",
    "    return text\n",
    "\n",
    "\n",
    "#reclean = re.compile(r\"(\\<.*?\\>|\\&\\#\\d+\\;)\")\n",
    "def X_text(X):\n",
    "    \"\"\"\n",
    "    A partir d'un dataframe X retourne une liste de textes (un par échantillon\n",
    "    du dataframe X)\n",
    "    \"\"\"\n",
    "    lst = []\n",
    "    for desc, desi in zip(X.description, X.designation):\n",
    "        descstr = desc if type(desc) == str else ''\n",
    "        desistr = desi if type(desi) == str else ''\n",
    "        sep = ' ' if type(desc) == str and type(desi) == str else ''\n",
    "        s = descstr + sep + desistr\n",
    "        #s = reclean.sub(' ', s)\n",
    "        #s = html.unescape(s)\n",
    "        #s = re.sub(r\"(\\<)\", \" \\1\",s)\n",
    "        #s = re.sub(r\"(\\>)\", \"\\1 \",s)\n",
    "        s = s.lower() + ' ' + re.sub(r\"([^A-Z0-9°\\+\\*\\=]+)\",\"\",s).lower()\n",
    "        lst.append(s)\n",
    "    return lst\n",
    "\n",
    "\n",
    "spacynlp = None\n",
    "spacyre = re.compile(r\"(<.*?>|&#\\d+;|\\'|\\:|\\.|\\-|\\+)\")\n",
    "french_stop_words = set(stopwords.words('french'))\n",
    "french_stop_words_no_accent = [remove_accents(x) for x in french_stop_words]\n",
    "def tokenize_spacy(sentence):\n",
    "    \"\"\"\n",
    "    Tokenizer basé sur spacy\n",
    "    \"\"\"\n",
    "    global spacynlp\n",
    "    if spacynlp is None:\n",
    "        spacynlp = spacy.load(\"fr_core_news_sm\")\n",
    "        spacynlp.disable_pipes ('tagger', 'parser', 'ner')\n",
    "    s = sentence\n",
    "    t = [x.lemma_ for x in spacynlp(s)]\n",
    "    #t = [x.text for x in spacynlp(s) if not x.text in french_stop_words]\n",
    "    return t\n",
    "\n",
    "\n",
    "def evaluate_model(name, model, X_trn, X_tst, y_trn, y_tst):\n",
    "    \"\"\"\n",
    "    Entraine un modèle <model> nommé <name> et affiche son score\n",
    "    \"\"\"\n",
    "    start = time.time()\n",
    "    model.fit(X_trn, y_trn)\n",
    "    y_pred = model.predict(X_tst)\n",
    "    stop = time.time()\n",
    "    score = f1_score_w(y_tst, y_pred)\n",
    "    print(f\"{name:<15} weighted-F1-score = {round(score,5)} ({round(stop-start,2)}s)\")\n",
    "    return model\n",
    "\n",
    "\n",
    "def evaluate_tfclf_step_by_step(name, clf):\n",
    "    \"\"\"\n",
    "    Entraine le model <clf> nommé <name> avec des tailles croissantes d'échantillons\n",
    "    et affiche une synthèse à la fin\n",
    "    \"\"\"\n",
    "    def display_progress(df, nb):\n",
    "        r = df.loc[nb]\n",
    "        print(f\"nb={nb} w-f1-score={r.score} ({int(r.vocalen)} mots, {r.time} sec)\")\n",
    "    \n",
    "    X0 = read_X(\"X_train_update.csv\")\n",
    "    y0 = pd.read_csv(\"Y_train_CVw08PX.csv\").drop(\"Unnamed: 0\", axis=1)[\"prdtypecode\"]\n",
    "    test_size = 0.20\n",
    "    X, y = shuffle(X_text(X0), y0, random_state=51)\n",
    "    filename = name + \".pkl\"\n",
    "    if os.path.isfile(filename):\n",
    "        df = pd.read_pickle(filename)\n",
    "    else:\n",
    "        df = pd.DataFrame({'nb':[], 'score':[], 'vocalen':[], 'time': []})\n",
    "\n",
    "    for nb in range(4000, len(X), 8000): ####\n",
    "        if nb in df.index:\n",
    "            display_progress(df, nb)\n",
    "            continue\n",
    "        X_trn, X_tst, y_trn, y_tst = train_test_split(X[:nb], y[:nb], shuffle=True, random_state=51)\n",
    "        now = datetime.datetime.now().strftime(\"%Hh%Mmn\")\n",
    "        print(f\"... Evaluation avec {nb} échantillons ({now}) ...\")\n",
    "        start = time.time()\n",
    "        clf.fit(X_trn, y_trn)\n",
    "        y_pred = clf.predict(X_tst)\n",
    "        vocalen = len(clf[0].vocabulary_) ###\n",
    "        stop = time.time()\n",
    "        delta = round(stop-start,2)\n",
    "        score = round(f1_score_w(y_tst, y_pred), 5)\n",
    "        df.loc[nb] = [nb, score, vocalen, delta]\n",
    "        display_progress(df, nb)\n",
    "        df.to_pickle(filename)    \n",
    "\n",
    "    # Affichage\n",
    "    filename = name + \".pkl\"\n",
    "    if not os.path.isfile(filename):\n",
    "        print(f\"File {filename} not found!\")\n",
    "        return\n",
    "    df = pd.read_pickle(filename)\n",
    "    plt.figure(figsize=(12,4))\n",
    "    ax1 = plt.subplot(1,1,1)\n",
    "    ibest = df.score.sort_values().index[-1:]\n",
    "    bestnb = np.float(df.nb[ibest])\n",
    "    bestscore = np.float(df.score[ibest])\n",
    "    plt.plot(df.nb, df.score,c='b', label='weighted F1 score')\n",
    "    plt.plot(np.array([0, bestnb, bestnb], dtype=object),\n",
    "             np.array([bestscore, bestscore, 0], dtype=object))\n",
    "    plt.title(f\"Score = {bestscore} pour {int(bestnb)} échantillons\")\n",
    "    plt.xlim(4000, df.nb.max() + 1000)\n",
    "    plt.ylim(0.5, 1)\n",
    "    plt.xlabel(\"Nombre d'échantillons\")\n",
    "    plt.ylabel(\"Score\")\n",
    "    plt.legend()\n",
    "    plt.show()"
   ]
  },
  {
   "cell_type": "code",
   "execution_count": 2,
   "id": "novel-poetry",
   "metadata": {},
   "outputs": [
    {
     "name": "stdout",
     "output_type": "stream",
     "text": [
      "... Evaluation avec 4000 échantillons (00h25mn) ...\n",
      "nb=4000 w-f1-score=0.69037 (38828 mots, 11.1 sec)\n",
      "... Evaluation avec 12000 échantillons (00h25mn) ...\n",
      "nb=12000 w-f1-score=0.77259 (97274 mots, 14.99 sec)\n",
      "... Evaluation avec 20000 échantillons (00h25mn) ...\n",
      "nb=20000 w-f1-score=0.80088 (147041 mots, 25.6 sec)\n",
      "... Evaluation avec 28000 échantillons (00h25mn) ...\n",
      "nb=28000 w-f1-score=0.80738 (193450 mots, 36.53 sec)\n",
      "... Evaluation avec 36000 échantillons (00h26mn) ...\n",
      "nb=36000 w-f1-score=0.82238 (238859 mots, 48.44 sec)\n",
      "... Evaluation avec 44000 échantillons (00h27mn) ...\n",
      "nb=44000 w-f1-score=0.83046 (279268 mots, 58.77 sec)\n",
      "... Evaluation avec 52000 échantillons (00h28mn) ...\n",
      "nb=52000 w-f1-score=0.83586 (317898 mots, 70.13 sec)\n",
      "... Evaluation avec 60000 échantillons (00h29mn) ...\n",
      "nb=60000 w-f1-score=0.84087 (355611 mots, 81.6 sec)\n",
      "... Evaluation avec 68000 échantillons (00h30mn) ...\n",
      "nb=68000 w-f1-score=0.84643 (394333 mots, 93.56 sec)\n",
      "... Evaluation avec 76000 échantillons (00h32mn) ...\n",
      "nb=76000 w-f1-score=0.84219 (425607 mots, 105.42 sec)\n",
      "... Evaluation avec 84000 échantillons (00h34mn) ...\n",
      "nb=84000 w-f1-score=0.84828 (462003 mots, 116.82 sec)\n"
     ]
    },
    {
     "data": {
      "image/png": "[encoded data removed]",
      "text/plain": [
       "<Figure size 864x288 with 1 Axes>"
      ]
     },
     "metadata": {
      "needs_background": "light"
     },
     "output_type": "display_data"
    }
   ],
   "source": [
    "clf_linearsvc = make_pipeline(\n",
    "    TfidfVectorizer(analyzer='word',\n",
    "                  tokenizer=tokenize_spacy,\n",
    "                      #strip_accents='unicode',\n",
    "                      #stop_words=french_stop_words_no_accent, # peut etre interessant parce que lisse la progression\n",
    "                  max_df=0.8,\n",
    "                  min_df=2,\n",
    "                  ngram_range=(1,2),\n",
    "                  use_idf=True,\n",
    "                  smooth_idf=True,\n",
    "                  sublinear_tf=False,\n",
    "                  binary=True,\n",
    "                  ),\n",
    "    LinearSVC(penalty=\"l2\", dual=True, C=0.8, tol=1e-5, max_iter=4000),\n",
    ")\n",
    "evaluate_tfclf_step_by_step(\"clf_linearsvc_learning\", clf_linearsvc)"
   ]
  },
  {
   "cell_type": "code",
   "execution_count": null,
   "id": "western-discount",
   "metadata": {},
   "outputs": [],
   "source": [
    "# Evaluation sur tous les échantillons\n",
    "#\n",
    "X_train = read_X(\"X_train_update.csv\")\n",
    "y_train = pd.read_csv(\n",
    "        \"Y_train_CVw08PX.csv\").drop(\"Unnamed: 0\", axis=1)[\"prdtypecode\"]\n",
    "\n",
    "# Split train / test\n",
    "X, y = X_text(X_train), y_train\n",
    "X_trn, X_tst, y_trn, y_tst = train_test_split(X, y, test_size=0.2, shuffle=True, random_state=51)\n",
    "\n",
    "clf_linearsvc.fit(X_trn, y_trn)\n",
    "y_pred = clf_linearsvc.predict(X_tst)\n",
    "\n",
    "print(classification_report(y_tst, y_pred))\n",
    "pd.crosstab(y_tst, y_pred)"
   ]
  },
  {
   "cell_type": "code",
   "execution_count": 3,
   "id": "central-bottle",
   "metadata": {},
   "outputs": [],
   "source": [
    "from xgboost import XGBClassifier"
   ]
  },
  {
   "cell_type": "code",
   "execution_count": 4,
   "id": "rational-valuation",
   "metadata": {},
   "outputs": [
    {
     "name": "stdout",
     "output_type": "stream",
     "text": [
      "... Evaluation avec 4000 échantillons (00h40mn) ...\n"
     ]
    },
    {
     "name": "stderr",
     "output_type": "stream",
     "text": [
      "C:\\Users\\utilisateur\\anaconda3\\envs\\tf\\lib\\site-packages\\xgboost\\sklearn.py:1146: UserWarning: The use of label encoder in XGBClassifier is deprecated and will be removed in a future release. To remove this warning, do the following: 1) Pass option use_label_encoder=False when constructing XGBClassifier object; and 2) Encode your labels (y) as integers starting with 0, i.e. 0, 1, 2, ..., [num_class - 1].\n",
      "  warnings.warn(label_encoder_deprecation_msg, UserWarning)\n"
     ]
    },
    {
     "name": "stdout",
     "output_type": "stream",
     "text": [
      "[00:40:58] WARNING: ..\\src\\learner.cc:573: \n",
      "Parameters: { \"min_samples_split\" } might not be used.\n",
      "\n",
      "  This may not be accurate due to some parameters are only used in language bindings but\n",
      "  passed down to XGBoost core.  Or some parameters are not used but slip through this\n",
      "  verification. Please open an issue if you find above cases.\n",
      "\n",
      "\n",
      "[00:40:58] WARNING: ..\\src\\learner.cc:1095: Starting in XGBoost 1.3.0, the default evaluation metric used with the objective 'multi:softprob' was changed from 'merror' to 'mlogloss'. Explicitly set eval_metric if you'd like to restore the old behavior.\n",
      "nb=4000 w-f1-score=0.6168 (66766 mots, 507.06 sec)\n",
      "... Evaluation avec 12000 échantillons (00h49mn) ...\n"
     ]
    },
    {
     "name": "stderr",
     "output_type": "stream",
     "text": [
      "C:\\Users\\utilisateur\\anaconda3\\envs\\tf\\lib\\site-packages\\xgboost\\sklearn.py:1146: UserWarning: The use of label encoder in XGBClassifier is deprecated and will be removed in a future release. To remove this warning, do the following: 1) Pass option use_label_encoder=False when constructing XGBClassifier object; and 2) Encode your labels (y) as integers starting with 0, i.e. 0, 1, 2, ..., [num_class - 1].\n",
      "  warnings.warn(label_encoder_deprecation_msg, UserWarning)\n"
     ]
    },
    {
     "name": "stdout",
     "output_type": "stream",
     "text": [
      "[00:49:33] WARNING: ..\\src\\learner.cc:573: \n",
      "Parameters: { \"min_samples_split\" } might not be used.\n",
      "\n",
      "  This may not be accurate due to some parameters are only used in language bindings but\n",
      "  passed down to XGBoost core.  Or some parameters are not used but slip through this\n",
      "  verification. Please open an issue if you find above cases.\n",
      "\n",
      "\n",
      "[00:49:34] WARNING: ..\\src\\learner.cc:1095: Starting in XGBoost 1.3.0, the default evaluation metric used with the objective 'multi:softprob' was changed from 'merror' to 'mlogloss'. Explicitly set eval_metric if you'd like to restore the old behavior.\n",
      "nb=12000 w-f1-score=0.71293 (186013 mots, 2146.74 sec)\n",
      "... Evaluation avec 20000 échantillons (01h25mn) ...\n"
     ]
    },
    {
     "name": "stderr",
     "output_type": "stream",
     "text": [
      "C:\\Users\\utilisateur\\anaconda3\\envs\\tf\\lib\\site-packages\\xgboost\\sklearn.py:1146: UserWarning: The use of label encoder in XGBClassifier is deprecated and will be removed in a future release. To remove this warning, do the following: 1) Pass option use_label_encoder=False when constructing XGBClassifier object; and 2) Encode your labels (y) as integers starting with 0, i.e. 0, 1, 2, ..., [num_class - 1].\n",
      "  warnings.warn(label_encoder_deprecation_msg, UserWarning)\n"
     ]
    },
    {
     "name": "stdout",
     "output_type": "stream",
     "text": [
      "[01:25:28] WARNING: ..\\src\\learner.cc:573: \n",
      "Parameters: { \"min_samples_split\" } might not be used.\n",
      "\n",
      "  This may not be accurate due to some parameters are only used in language bindings but\n",
      "  passed down to XGBoost core.  Or some parameters are not used but slip through this\n",
      "  verification. Please open an issue if you find above cases.\n",
      "\n",
      "\n",
      "[01:25:30] WARNING: ..\\src\\learner.cc:1095: Starting in XGBoost 1.3.0, the default evaluation metric used with the objective 'multi:softprob' was changed from 'merror' to 'mlogloss'. Explicitly set eval_metric if you'd like to restore the old behavior.\n",
      "nb=20000 w-f1-score=0.75283 (294419 mots, 4157.65 sec)\n",
      "... Evaluation avec 28000 échantillons (02h34mn) ...\n"
     ]
    },
    {
     "name": "stderr",
     "output_type": "stream",
     "text": [
      "C:\\Users\\utilisateur\\anaconda3\\envs\\tf\\lib\\site-packages\\xgboost\\sklearn.py:1146: UserWarning: The use of label encoder in XGBClassifier is deprecated and will be removed in a future release. To remove this warning, do the following: 1) Pass option use_label_encoder=False when constructing XGBClassifier object; and 2) Encode your labels (y) as integers starting with 0, i.e. 0, 1, 2, ..., [num_class - 1].\n",
      "  warnings.warn(label_encoder_deprecation_msg, UserWarning)\n"
     ]
    },
    {
     "name": "stdout",
     "output_type": "stream",
     "text": [
      "[02:34:54] WARNING: ..\\src\\learner.cc:573: \n",
      "Parameters: { \"min_samples_split\" } might not be used.\n",
      "\n",
      "  This may not be accurate due to some parameters are only used in language bindings but\n",
      "  passed down to XGBoost core.  Or some parameters are not used but slip through this\n",
      "  verification. Please open an issue if you find above cases.\n",
      "\n",
      "\n",
      "[02:34:57] WARNING: ..\\src\\learner.cc:1095: Starting in XGBoost 1.3.0, the default evaluation metric used with the objective 'multi:softprob' was changed from 'merror' to 'mlogloss'. Explicitly set eval_metric if you'd like to restore the old behavior.\n",
      "nb=28000 w-f1-score=0.78504 (401487 mots, 6358.74 sec)\n",
      "... Evaluation avec 36000 échantillons (04h20mn) ...\n"
     ]
    },
    {
     "name": "stderr",
     "output_type": "stream",
     "text": [
      "C:\\Users\\utilisateur\\anaconda3\\envs\\tf\\lib\\site-packages\\xgboost\\sklearn.py:1146: UserWarning: The use of label encoder in XGBClassifier is deprecated and will be removed in a future release. To remove this warning, do the following: 1) Pass option use_label_encoder=False when constructing XGBClassifier object; and 2) Encode your labels (y) as integers starting with 0, i.e. 0, 1, 2, ..., [num_class - 1].\n",
      "  warnings.warn(label_encoder_deprecation_msg, UserWarning)\n"
     ]
    },
    {
     "name": "stdout",
     "output_type": "stream",
     "text": [
      "[04:21:03] WARNING: ..\\src\\learner.cc:573: \n",
      "Parameters: { \"min_samples_split\" } might not be used.\n",
      "\n",
      "  This may not be accurate due to some parameters are only used in language bindings but\n",
      "  passed down to XGBoost core.  Or some parameters are not used but slip through this\n",
      "  verification. Please open an issue if you find above cases.\n",
      "\n",
      "\n",
      "[04:21:08] WARNING: ..\\src\\learner.cc:1095: Starting in XGBoost 1.3.0, the default evaluation metric used with the objective 'multi:softprob' was changed from 'merror' to 'mlogloss'. Explicitly set eval_metric if you'd like to restore the old behavior.\n",
      "nb=36000 w-f1-score=0.7926 (508757 mots, 8643.91 sec)\n",
      "... Evaluation avec 44000 échantillons (06h44mn) ...\n"
     ]
    },
    {
     "name": "stderr",
     "output_type": "stream",
     "text": [
      "C:\\Users\\utilisateur\\anaconda3\\envs\\tf\\lib\\site-packages\\xgboost\\sklearn.py:1146: UserWarning: The use of label encoder in XGBClassifier is deprecated and will be removed in a future release. To remove this warning, do the following: 1) Pass option use_label_encoder=False when constructing XGBClassifier object; and 2) Encode your labels (y) as integers starting with 0, i.e. 0, 1, 2, ..., [num_class - 1].\n",
      "  warnings.warn(label_encoder_deprecation_msg, UserWarning)\n"
     ]
    },
    {
     "name": "stdout",
     "output_type": "stream",
     "text": [
      "[06:45:18] WARNING: ..\\src\\learner.cc:573: \n",
      "Parameters: { \"min_samples_split\" } might not be used.\n",
      "\n",
      "  This may not be accurate due to some parameters are only used in language bindings but\n",
      "  passed down to XGBoost core.  Or some parameters are not used but slip through this\n",
      "  verification. Please open an issue if you find above cases.\n",
      "\n",
      "\n",
      "[06:45:22] WARNING: ..\\src\\learner.cc:1095: Starting in XGBoost 1.3.0, the default evaluation metric used with the objective 'multi:softprob' was changed from 'merror' to 'mlogloss'. Explicitly set eval_metric if you'd like to restore the old behavior.\n",
      "nb=44000 w-f1-score=0.80836 (604676 mots, 15547.26 sec)\n",
      "... Evaluation avec 52000 échantillons (11h03mn) ...\n"
     ]
    },
    {
     "name": "stderr",
     "output_type": "stream",
     "text": [
      "C:\\Users\\utilisateur\\anaconda3\\envs\\tf\\lib\\site-packages\\xgboost\\sklearn.py:1146: UserWarning: The use of label encoder in XGBClassifier is deprecated and will be removed in a future release. To remove this warning, do the following: 1) Pass option use_label_encoder=False when constructing XGBClassifier object; and 2) Encode your labels (y) as integers starting with 0, i.e. 0, 1, 2, ..., [num_class - 1].\n",
      "  warnings.warn(label_encoder_deprecation_msg, UserWarning)\n"
     ]
    },
    {
     "name": "stdout",
     "output_type": "stream",
     "text": [
      "[11:04:35] WARNING: ..\\src\\learner.cc:573: \n",
      "Parameters: { \"min_samples_split\" } might not be used.\n",
      "\n",
      "  This may not be accurate due to some parameters are only used in language bindings but\n",
      "  passed down to XGBoost core.  Or some parameters are not used but slip through this\n",
      "  verification. Please open an issue if you find above cases.\n",
      "\n",
      "\n",
      "[11:04:40] WARNING: ..\\src\\learner.cc:1095: Starting in XGBoost 1.3.0, the default evaluation metric used with the objective 'multi:softprob' was changed from 'merror' to 'mlogloss'. Explicitly set eval_metric if you'd like to restore the old behavior.\n",
      "nb=52000 w-f1-score=0.81602 (698396 mots, 12651.64 sec)\n",
      "... Evaluation avec 60000 échantillons (14h34mn) ...\n"
     ]
    },
    {
     "name": "stderr",
     "output_type": "stream",
     "text": [
      "C:\\Users\\utilisateur\\anaconda3\\envs\\tf\\lib\\site-packages\\xgboost\\sklearn.py:1146: UserWarning: The use of label encoder in XGBClassifier is deprecated and will be removed in a future release. To remove this warning, do the following: 1) Pass option use_label_encoder=False when constructing XGBClassifier object; and 2) Encode your labels (y) as integers starting with 0, i.e. 0, 1, 2, ..., [num_class - 1].\n",
      "  warnings.warn(label_encoder_deprecation_msg, UserWarning)\n"
     ]
    },
    {
     "name": "stdout",
     "output_type": "stream",
     "text": [
      "[14:35:38] WARNING: ..\\src\\learner.cc:573: \n",
      "Parameters: { \"min_samples_split\" } might not be used.\n",
      "\n",
      "  This may not be accurate due to some parameters are only used in language bindings but\n",
      "  passed down to XGBoost core.  Or some parameters are not used but slip through this\n",
      "  verification. Please open an issue if you find above cases.\n",
      "\n",
      "\n",
      "[14:35:46] WARNING: ..\\src\\learner.cc:1095: Starting in XGBoost 1.3.0, the default evaluation metric used with the objective 'multi:softprob' was changed from 'merror' to 'mlogloss'. Explicitly set eval_metric if you'd like to restore the old behavior.\n",
      "nb=60000 w-f1-score=0.82212 (790927 mots, 14697.07 sec)\n",
      "... Evaluation avec 68000 échantillons (18h39mn) ...\n"
     ]
    },
    {
     "name": "stderr",
     "output_type": "stream",
     "text": [
      "C:\\Users\\utilisateur\\anaconda3\\envs\\tf\\lib\\site-packages\\xgboost\\sklearn.py:1146: UserWarning: The use of label encoder in XGBClassifier is deprecated and will be removed in a future release. To remove this warning, do the following: 1) Pass option use_label_encoder=False when constructing XGBClassifier object; and 2) Encode your labels (y) as integers starting with 0, i.e. 0, 1, 2, ..., [num_class - 1].\n",
      "  warnings.warn(label_encoder_deprecation_msg, UserWarning)\n"
     ]
    },
    {
     "name": "stdout",
     "output_type": "stream",
     "text": [
      "[18:40:41] WARNING: ..\\src\\learner.cc:573: \n",
      "Parameters: { \"min_samples_split\" } might not be used.\n",
      "\n",
      "  This may not be accurate due to some parameters are only used in language bindings but\n",
      "  passed down to XGBoost core.  Or some parameters are not used but slip through this\n",
      "  verification. Please open an issue if you find above cases.\n",
      "\n",
      "\n",
      "[18:40:48] WARNING: ..\\src\\learner.cc:1095: Starting in XGBoost 1.3.0, the default evaluation metric used with the objective 'multi:softprob' was changed from 'merror' to 'mlogloss'. Explicitly set eval_metric if you'd like to restore the old behavior.\n",
      "nb=68000 w-f1-score=0.82745 (887189 mots, 17904.44 sec)\n",
      "... Evaluation avec 76000 échantillons (23h37mn) ...\n"
     ]
    },
    {
     "name": "stderr",
     "output_type": "stream",
     "text": [
      "C:\\Users\\utilisateur\\anaconda3\\envs\\tf\\lib\\site-packages\\xgboost\\sklearn.py:1146: UserWarning: The use of label encoder in XGBClassifier is deprecated and will be removed in a future release. To remove this warning, do the following: 1) Pass option use_label_encoder=False when constructing XGBClassifier object; and 2) Encode your labels (y) as integers starting with 0, i.e. 0, 1, 2, ..., [num_class - 1].\n",
      "  warnings.warn(label_encoder_deprecation_msg, UserWarning)\n"
     ]
    },
    {
     "name": "stdout",
     "output_type": "stream",
     "text": [
      "[23:39:15] WARNING: ..\\src\\learner.cc:573: \n",
      "Parameters: { \"min_samples_split\" } might not be used.\n",
      "\n",
      "  This may not be accurate due to some parameters are only used in language bindings but\n",
      "  passed down to XGBoost core.  Or some parameters are not used but slip through this\n",
      "  verification. Please open an issue if you find above cases.\n",
      "\n",
      "\n",
      "[23:39:22] WARNING: ..\\src\\learner.cc:1095: Starting in XGBoost 1.3.0, the default evaluation metric used with the objective 'multi:softprob' was changed from 'merror' to 'mlogloss'. Explicitly set eval_metric if you'd like to restore the old behavior.\n",
      "nb=76000 w-f1-score=0.83001 (964044 mots, 19710.78 sec)\n",
      "... Evaluation avec 84000 échantillons (05h06mn) ...\n"
     ]
    },
    {
     "name": "stderr",
     "output_type": "stream",
     "text": [
      "C:\\Users\\utilisateur\\anaconda3\\envs\\tf\\lib\\site-packages\\xgboost\\sklearn.py:1146: UserWarning: The use of label encoder in XGBClassifier is deprecated and will be removed in a future release. To remove this warning, do the following: 1) Pass option use_label_encoder=False when constructing XGBClassifier object; and 2) Encode your labels (y) as integers starting with 0, i.e. 0, 1, 2, ..., [num_class - 1].\n",
      "  warnings.warn(label_encoder_deprecation_msg, UserWarning)\n"
     ]
    },
    {
     "name": "stdout",
     "output_type": "stream",
     "text": [
      "[05:07:53] WARNING: ..\\src\\learner.cc:573: \n",
      "Parameters: { \"min_samples_split\" } might not be used.\n",
      "\n",
      "  This may not be accurate due to some parameters are only used in language bindings but\n",
      "  passed down to XGBoost core.  Or some parameters are not used but slip through this\n",
      "  verification. Please open an issue if you find above cases.\n",
      "\n",
      "\n",
      "[05:08:01] WARNING: ..\\src\\learner.cc:1095: Starting in XGBoost 1.3.0, the default evaluation metric used with the objective 'multi:softprob' was changed from 'merror' to 'mlogloss'. Explicitly set eval_metric if you'd like to restore the old behavior.\n",
      "nb=84000 w-f1-score=0.83233 (1055812 mots, 22267.43 sec)\n"
     ]
    },
    {
     "data": {
      "image/png": "[encoded data removed]",
      "text/plain": [
       "<Figure size 864x288 with 1 Axes>"
      ]
     },
     "metadata": {
      "needs_background": "light"
     },
     "output_type": "display_data"
    }
   ],
   "source": [
    "clf_xgb= make_pipeline(\n",
    "    TfidfVectorizer(analyzer='word',\n",
    "                  tokenizer=tokenize_spacy,\n",
    "                      #strip_accents='unicode',\n",
    "                      #stop_words=french_stop_words_no_accent, # peut etre interessant parce que lisse la progression\n",
    "                  max_df=0.8,\n",
    "                  min_df=2,\n",
    "                  ngram_range=(1,3),\n",
    "                  use_idf=True,\n",
    "                  smooth_idf=True,\n",
    "                  sublinear_tf=False,\n",
    "                  binary=True,\n",
    "                  ),\n",
    "    XGBClassifier(n_jobs = -1,learning_rate=0.05, n_estimators=3000, min_samples_split=15),\n",
    ")\n",
    "evaluate_tfclf_step_by_step(\"clf_xgboost\", clf_xgb)"
   ]
  },
  {
   "cell_type": "code",
   "execution_count": null,
   "id": "sought-trustee",
   "metadata": {},
   "outputs": [],
   "source": []
  },
  {
   "cell_type": "code",
   "execution_count": null,
   "id": "concrete-moment",
   "metadata": {},
   "outputs": [],
   "source": []
  },
  {
   "cell_type": "code",
   "execution_count": null,
   "id": "literary-setup",
   "metadata": {},
   "outputs": [],
   "source": []
  }
 ],
 "metadata": {
  "kernelspec": {
   "display_name": "Python 3",
   "language": "python",
   "name": "python3"
  },
  "language_info": {
   "codemirror_mode": {
    "name": "ipython",
    "version": 3
   },
   "file_extension": ".py",
   "mimetype": "text/x-python",
   "name": "python",
   "nbconvert_exporter": "python",
   "pygments_lexer": "ipython3",
   "version": "3.8.8"
  }
 },
 "nbformat": 4,
 "nbformat_minor": 5
}
